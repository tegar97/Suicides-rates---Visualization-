{
 "cells": [
  {
   "cell_type": "code",
   "execution_count": 51,
   "id": "260f2033",
   "metadata": {},
   "outputs": [],
   "source": [
    "import pandas as pd\n",
    "import numpy as np\n",
    "import matplotlib.pyplot as plt\n",
    "import seaborn as sns\n",
    "import warnings \n",
    "warnings.filterwarnings('ignore')\n",
    "import folium\n",
    "from folium.plugins import MarkerCluster\n",
    "import plotly_express as px "
   ]
  },
  {
   "cell_type": "code",
   "execution_count": 52,
   "id": "e36c5547",
   "metadata": {},
   "outputs": [],
   "source": [
    "df = pd.read_csv(\"./master.csv\")\n",
    "gps  = pd.read_csv(\"./concap.csv\")"
   ]
  },
  {
   "cell_type": "code",
   "execution_count": 53,
   "id": "68c672fe",
   "metadata": {
    "scrolled": true
   },
   "outputs": [
    {
     "data": {
      "text/html": [
       "<div>\n",
       "<style scoped>\n",
       "    .dataframe tbody tr th:only-of-type {\n",
       "        vertical-align: middle;\n",
       "    }\n",
       "\n",
       "    .dataframe tbody tr th {\n",
       "        vertical-align: top;\n",
       "    }\n",
       "\n",
       "    .dataframe thead th {\n",
       "        text-align: right;\n",
       "    }\n",
       "</style>\n",
       "<table border=\"1\" class=\"dataframe\">\n",
       "  <thead>\n",
       "    <tr style=\"text-align: right;\">\n",
       "      <th></th>\n",
       "      <th>country</th>\n",
       "      <th>year</th>\n",
       "      <th>sex</th>\n",
       "      <th>age</th>\n",
       "      <th>suicides_no</th>\n",
       "      <th>population</th>\n",
       "      <th>suicides/100k pop</th>\n",
       "      <th>country-year</th>\n",
       "      <th>HDI for year</th>\n",
       "      <th>gdp_for_year ($)</th>\n",
       "      <th>gdp_per_capita ($)</th>\n",
       "      <th>generation</th>\n",
       "    </tr>\n",
       "  </thead>\n",
       "  <tbody>\n",
       "    <tr>\n",
       "      <th>0</th>\n",
       "      <td>Albania</td>\n",
       "      <td>1987</td>\n",
       "      <td>male</td>\n",
       "      <td>15-24 years</td>\n",
       "      <td>21</td>\n",
       "      <td>312900</td>\n",
       "      <td>6.71</td>\n",
       "      <td>Albania1987</td>\n",
       "      <td>NaN</td>\n",
       "      <td>2,156,624,900</td>\n",
       "      <td>796</td>\n",
       "      <td>Generation X</td>\n",
       "    </tr>\n",
       "    <tr>\n",
       "      <th>1</th>\n",
       "      <td>Albania</td>\n",
       "      <td>1987</td>\n",
       "      <td>male</td>\n",
       "      <td>35-54 years</td>\n",
       "      <td>16</td>\n",
       "      <td>308000</td>\n",
       "      <td>5.19</td>\n",
       "      <td>Albania1987</td>\n",
       "      <td>NaN</td>\n",
       "      <td>2,156,624,900</td>\n",
       "      <td>796</td>\n",
       "      <td>Silent</td>\n",
       "    </tr>\n",
       "    <tr>\n",
       "      <th>2</th>\n",
       "      <td>Albania</td>\n",
       "      <td>1987</td>\n",
       "      <td>female</td>\n",
       "      <td>15-24 years</td>\n",
       "      <td>14</td>\n",
       "      <td>289700</td>\n",
       "      <td>4.83</td>\n",
       "      <td>Albania1987</td>\n",
       "      <td>NaN</td>\n",
       "      <td>2,156,624,900</td>\n",
       "      <td>796</td>\n",
       "      <td>Generation X</td>\n",
       "    </tr>\n",
       "    <tr>\n",
       "      <th>3</th>\n",
       "      <td>Albania</td>\n",
       "      <td>1987</td>\n",
       "      <td>male</td>\n",
       "      <td>75+ years</td>\n",
       "      <td>1</td>\n",
       "      <td>21800</td>\n",
       "      <td>4.59</td>\n",
       "      <td>Albania1987</td>\n",
       "      <td>NaN</td>\n",
       "      <td>2,156,624,900</td>\n",
       "      <td>796</td>\n",
       "      <td>G.I. Generation</td>\n",
       "    </tr>\n",
       "    <tr>\n",
       "      <th>4</th>\n",
       "      <td>Albania</td>\n",
       "      <td>1987</td>\n",
       "      <td>male</td>\n",
       "      <td>25-34 years</td>\n",
       "      <td>9</td>\n",
       "      <td>274300</td>\n",
       "      <td>3.28</td>\n",
       "      <td>Albania1987</td>\n",
       "      <td>NaN</td>\n",
       "      <td>2,156,624,900</td>\n",
       "      <td>796</td>\n",
       "      <td>Boomers</td>\n",
       "    </tr>\n",
       "  </tbody>\n",
       "</table>\n",
       "</div>"
      ],
      "text/plain": [
       "   country  year     sex          age  suicides_no  population  \\\n",
       "0  Albania  1987    male  15-24 years           21      312900   \n",
       "1  Albania  1987    male  35-54 years           16      308000   \n",
       "2  Albania  1987  female  15-24 years           14      289700   \n",
       "3  Albania  1987    male    75+ years            1       21800   \n",
       "4  Albania  1987    male  25-34 years            9      274300   \n",
       "\n",
       "   suicides/100k pop country-year  HDI for year  gdp_for_year ($)   \\\n",
       "0               6.71  Albania1987           NaN      2,156,624,900   \n",
       "1               5.19  Albania1987           NaN      2,156,624,900   \n",
       "2               4.83  Albania1987           NaN      2,156,624,900   \n",
       "3               4.59  Albania1987           NaN      2,156,624,900   \n",
       "4               3.28  Albania1987           NaN      2,156,624,900   \n",
       "\n",
       "   gdp_per_capita ($)       generation  \n",
       "0                 796     Generation X  \n",
       "1                 796           Silent  \n",
       "2                 796     Generation X  \n",
       "3                 796  G.I. Generation  \n",
       "4                 796          Boomers  "
      ]
     },
     "execution_count": 53,
     "metadata": {},
     "output_type": "execute_result"
    }
   ],
   "source": [
    "df.head()"
   ]
  },
  {
   "cell_type": "code",
   "execution_count": 54,
   "id": "e0d851e6",
   "metadata": {
    "scrolled": true
   },
   "outputs": [
    {
     "data": {
      "text/plain": [
       "array(['Albania', 'Antigua and Barbuda', 'Argentina', 'Armenia', 'Aruba',\n",
       "       'Australia', 'Austria', 'Azerbaijan', 'Bahamas', 'Bahrain',\n",
       "       'Barbados', 'Belarus', 'Belgium', 'Belize',\n",
       "       'Bosnia and Herzegovina', 'Brazil', 'Bulgaria', 'Cabo Verde',\n",
       "       'Canada', 'Chile', 'Colombia', 'Costa Rica', 'Croatia', 'Cuba',\n",
       "       'Cyprus', 'Czech Republic', 'Denmark', 'Dominica', 'Ecuador',\n",
       "       'El Salvador', 'Estonia', 'Fiji', 'Finland', 'France', 'Georgia',\n",
       "       'Germany', 'Greece', 'Grenada', 'Guatemala', 'Guyana', 'Hungary',\n",
       "       'Iceland', 'Ireland', 'Israel', 'Italy', 'Jamaica', 'Japan',\n",
       "       'Kazakhstan', 'Kiribati', 'Kuwait', 'Kyrgyzstan', 'Latvia',\n",
       "       'Lithuania', 'Luxembourg', 'Macau', 'Maldives', 'Malta',\n",
       "       'Mauritius', 'Mexico', 'Mongolia', 'Montenegro', 'Netherlands',\n",
       "       'New Zealand', 'Nicaragua', 'Norway', 'Oman', 'Panama', 'Paraguay',\n",
       "       'Philippines', 'Poland', 'Portugal', 'Puerto Rico', 'Qatar',\n",
       "       'Republic of Korea', 'Romania', 'Russian Federation',\n",
       "       'Saint Kitts and Nevis', 'Saint Lucia',\n",
       "       'Saint Vincent and Grenadines', 'San Marino', 'Serbia',\n",
       "       'Seychelles', 'Singapore', 'Slovakia', 'Slovenia', 'South Africa',\n",
       "       'Spain', 'Sri Lanka', 'Suriname', 'Sweden', 'Switzerland',\n",
       "       'Thailand', 'Trinidad and Tobago', 'Turkey', 'Turkmenistan',\n",
       "       'Ukraine', 'United Arab Emirates', 'United Kingdom',\n",
       "       'United States', 'Uruguay', 'Uzbekistan'], dtype=object)"
      ]
     },
     "execution_count": 54,
     "metadata": {},
     "output_type": "execute_result"
    }
   ],
   "source": [
    "df.country.unique()"
   ]
  },
  {
   "cell_type": "code",
   "execution_count": 55,
   "id": "76259db4",
   "metadata": {
    "scrolled": true
   },
   "outputs": [
    {
     "data": {
      "text/plain": [
       "array(['Somaliland', 'South Georgia and South Sandwich Islands',\n",
       "       'French Southern and Antarctic Lands', 'Palestine',\n",
       "       'Aland Islands', 'Nauru', 'Saint Martin', 'Tokelau',\n",
       "       'Western Sahara', 'Afghanistan', 'Albania', 'Algeria',\n",
       "       'American Samoa', 'Andorra', 'Angola', 'Anguilla',\n",
       "       'Antigua and Barbuda', 'Argentina', 'Armenia', 'Aruba',\n",
       "       'Australia', 'Austria', 'Azerbaijan', 'Bahamas', 'Bahrain',\n",
       "       'Bangladesh', 'Barbados', 'Belarus', 'Belgium', 'Belize', 'Benin',\n",
       "       'Bermuda', 'Bhutan', 'Bolivia', 'Bosnia and Herzegovina',\n",
       "       'Botswana', 'Brazil', 'British Virgin Islands',\n",
       "       'Brunei Darussalam', 'Bulgaria', 'Burkina Faso', 'Myanmar',\n",
       "       'Burundi', 'Cambodia', 'Cameroon', 'Canada', 'Cape Verde',\n",
       "       'Cayman Islands', 'Central African Republic', 'Chad', 'Chile',\n",
       "       'China', 'Christmas Island', 'Cocos Islands', 'Colombia',\n",
       "       'Comoros', 'Democratic Republic of the Congo', 'Republic of Congo',\n",
       "       'Cook Islands', 'Costa Rica', \"Cote d'Ivoire\", 'Croatia', 'Cuba',\n",
       "       'Curaçao', 'Cyprus', 'Czech Republic', 'Denmark', 'Djibouti',\n",
       "       'Dominica', 'Dominican Republic', 'Ecuador', 'Egypt',\n",
       "       'El Salvador', 'Equatorial Guinea', 'Eritrea', 'Estonia',\n",
       "       'Ethiopia', 'Falkland Islands', 'Faroe Islands', 'Fiji', 'Finland',\n",
       "       'France', 'French Polynesia', 'Gabon', 'The Gambia', 'Georgia',\n",
       "       'Germany', 'Ghana', 'Gibraltar', 'Greece', 'Greenland', 'Grenada',\n",
       "       'Guam', 'Guatemala', 'Guernsey', 'Guinea', 'Guinea-Bissau',\n",
       "       'Guyana', 'Haiti', 'Vatican City', 'Honduras', 'Hungary',\n",
       "       'Iceland', 'India', 'Indonesia', 'Iran', 'Iraq', 'Ireland',\n",
       "       'Isle of Man', 'Israel', 'Italy', 'Jamaica', 'Japan', 'Jersey',\n",
       "       'Jordan', 'Kazakhstan', 'Kenya', 'Kiribati', 'North Korea',\n",
       "       'South Korea', 'Kosovo', 'Kuwait', 'Kyrgyzstan', 'Laos', 'Latvia',\n",
       "       'Lebanon', 'Lesotho', 'Liberia', 'Libya', 'Liechtenstein',\n",
       "       'Lithuania', 'Luxembourg', 'Macedonia', 'Madagascar', 'Malawi',\n",
       "       'Malaysia', 'Maldives', 'Mali', 'Malta', 'Marshall Islands',\n",
       "       'Mauritania', 'Mauritius', 'Mexico',\n",
       "       'Federated States of Micronesia', 'Moldova', 'Monaco', 'Mongolia',\n",
       "       'Montenegro', 'Montserrat', 'Morocco', 'Mozambique', 'Namibia',\n",
       "       'Nepal', 'Netherlands', 'New Caledonia', 'New Zealand',\n",
       "       'Nicaragua', 'Niger', 'Nigeria', 'Niue', 'Norfolk Island',\n",
       "       'Northern Mariana Islands', 'Norway', 'Oman', 'Pakistan', 'Palau',\n",
       "       'Panama', 'Papua New Guinea', 'Paraguay', 'Peru', 'Philippines',\n",
       "       'Pitcairn Islands', 'Poland', 'Portugal', 'Puerto Rico', 'Qatar',\n",
       "       'Romania', 'Russia', 'Rwanda', 'Saint Barthelemy', 'Saint Helena',\n",
       "       'Saint Kitts and Nevis', 'Saint Lucia',\n",
       "       'Saint Pierre and Miquelon', 'Saint Vincent and the Grenadines',\n",
       "       'Samoa', 'San Marino', 'Sao Tome and Principe', 'Saudi Arabia',\n",
       "       'Senegal', 'Serbia', 'Seychelles', 'Sierra Leone', 'Singapore',\n",
       "       'Sint Maarten', 'Slovakia', 'Slovenia', 'Solomon Islands',\n",
       "       'Somalia', 'South Africa', 'South Sudan', 'Spain', 'Sri Lanka',\n",
       "       'Sudan', 'Suriname', 'Svalbard', 'Swaziland', 'Sweden',\n",
       "       'Switzerland', 'Syria', 'Taiwan', 'Tajikistan', 'Tanzania',\n",
       "       'Thailand', 'Timor-Leste', 'Togo', 'Tonga', 'Trinidad and Tobago',\n",
       "       'Tunisia', 'Turkey', 'Turkmenistan', 'Turks and Caicos Islands',\n",
       "       'Tuvalu', 'Uganda', 'Ukraine', 'United Arab Emirates',\n",
       "       'United Kingdom', 'United States', 'Uruguay', 'Uzbekistan',\n",
       "       'Vanuatu', 'Venezuela', 'Vietnam', 'US Virgin Islands',\n",
       "       'Wallis and Futuna', 'Yemen', 'Zambia', 'Zimbabwe',\n",
       "       'US Minor Outlying Islands', 'Antarctica', 'Northern Cyprus',\n",
       "       'Hong Kong', 'Heard Island and McDonald Islands',\n",
       "       'British Indian Ocean Territory', 'Macau'], dtype=object)"
      ]
     },
     "execution_count": 55,
     "metadata": {},
     "output_type": "execute_result"
    }
   ],
   "source": [
    "gps.CountryName.unique()"
   ]
  },
  {
   "cell_type": "code",
   "execution_count": 56,
   "id": "fd220fb1",
   "metadata": {},
   "outputs": [
    {
     "name": "stdout",
     "output_type": "stream",
     "text": [
      "MISSING:  df: Cabo Verde                         gps:[]\n",
      "MISSING:  df: Republic of Korea                  gps:[]\n",
      "MISSING:  df: Russian Federation                 gps:[]\n",
      "MISSING:  df: Saint Vincent and Grenadines       gps:[]\n",
      "check complete:  4 missing\n",
      "\n"
     ]
    }
   ],
   "source": [
    "count = 0\n",
    "for i in sorted(df.country.unique()):\n",
    "    if len(gps.CountryName[gps.CountryName == i].values) == 0:\n",
    "        print('MISSING:  df: {:<35}gps:{}'.format(i,gps.CountryName[gps.CountryName == i].values))\n",
    "        count = count + 1\n",
    "print('check complete:  {} missing\\n'.format(count)) "
   ]
  },
  {
   "cell_type": "code",
   "execution_count": 57,
   "id": "2a34e0b2",
   "metadata": {},
   "outputs": [],
   "source": [
    "# update name in df to match the gps file\n",
    "df.replace({'Cabo Verde':'Cape Verde','Republic of Korea':'South Korea','Russian Federation':'Russia','Saint Vincent and Grenadines':'Saint Vincent and the Grenadines'},inplace=True)\n",
    "\n",
    "\n",
    "# Join the datasets using the country name as key \n",
    "df = df.join(gps.set_index('CountryName'), on='country')"
   ]
  },
  {
   "cell_type": "code",
   "execution_count": 58,
   "id": "f8c500a2",
   "metadata": {},
   "outputs": [
    {
     "data": {
      "text/html": [
       "<div>\n",
       "<style scoped>\n",
       "    .dataframe tbody tr th:only-of-type {\n",
       "        vertical-align: middle;\n",
       "    }\n",
       "\n",
       "    .dataframe tbody tr th {\n",
       "        vertical-align: top;\n",
       "    }\n",
       "\n",
       "    .dataframe thead th {\n",
       "        text-align: right;\n",
       "    }\n",
       "</style>\n",
       "<table border=\"1\" class=\"dataframe\">\n",
       "  <thead>\n",
       "    <tr style=\"text-align: right;\">\n",
       "      <th></th>\n",
       "      <th>country</th>\n",
       "      <th>year</th>\n",
       "      <th>sex</th>\n",
       "      <th>age</th>\n",
       "      <th>suicides_no</th>\n",
       "      <th>population</th>\n",
       "      <th>suicides/100k pop</th>\n",
       "      <th>country-year</th>\n",
       "      <th>HDI for year</th>\n",
       "      <th>gdp_for_year ($)</th>\n",
       "      <th>gdp_per_capita ($)</th>\n",
       "      <th>generation</th>\n",
       "      <th>CapitalName</th>\n",
       "      <th>CapitalLatitude</th>\n",
       "      <th>CapitalLongitude</th>\n",
       "      <th>CountryCode</th>\n",
       "      <th>ContinentName</th>\n",
       "    </tr>\n",
       "  </thead>\n",
       "  <tbody>\n",
       "    <tr>\n",
       "      <th>0</th>\n",
       "      <td>Albania</td>\n",
       "      <td>1987</td>\n",
       "      <td>male</td>\n",
       "      <td>15-24 years</td>\n",
       "      <td>21</td>\n",
       "      <td>312900</td>\n",
       "      <td>6.71</td>\n",
       "      <td>Albania1987</td>\n",
       "      <td>NaN</td>\n",
       "      <td>2,156,624,900</td>\n",
       "      <td>796</td>\n",
       "      <td>Generation X</td>\n",
       "      <td>Tirana</td>\n",
       "      <td>41.316667</td>\n",
       "      <td>19.816667</td>\n",
       "      <td>AL</td>\n",
       "      <td>Europe</td>\n",
       "    </tr>\n",
       "    <tr>\n",
       "      <th>1</th>\n",
       "      <td>Albania</td>\n",
       "      <td>1987</td>\n",
       "      <td>male</td>\n",
       "      <td>35-54 years</td>\n",
       "      <td>16</td>\n",
       "      <td>308000</td>\n",
       "      <td>5.19</td>\n",
       "      <td>Albania1987</td>\n",
       "      <td>NaN</td>\n",
       "      <td>2,156,624,900</td>\n",
       "      <td>796</td>\n",
       "      <td>Silent</td>\n",
       "      <td>Tirana</td>\n",
       "      <td>41.316667</td>\n",
       "      <td>19.816667</td>\n",
       "      <td>AL</td>\n",
       "      <td>Europe</td>\n",
       "    </tr>\n",
       "    <tr>\n",
       "      <th>2</th>\n",
       "      <td>Albania</td>\n",
       "      <td>1987</td>\n",
       "      <td>female</td>\n",
       "      <td>15-24 years</td>\n",
       "      <td>14</td>\n",
       "      <td>289700</td>\n",
       "      <td>4.83</td>\n",
       "      <td>Albania1987</td>\n",
       "      <td>NaN</td>\n",
       "      <td>2,156,624,900</td>\n",
       "      <td>796</td>\n",
       "      <td>Generation X</td>\n",
       "      <td>Tirana</td>\n",
       "      <td>41.316667</td>\n",
       "      <td>19.816667</td>\n",
       "      <td>AL</td>\n",
       "      <td>Europe</td>\n",
       "    </tr>\n",
       "    <tr>\n",
       "      <th>3</th>\n",
       "      <td>Albania</td>\n",
       "      <td>1987</td>\n",
       "      <td>male</td>\n",
       "      <td>75+ years</td>\n",
       "      <td>1</td>\n",
       "      <td>21800</td>\n",
       "      <td>4.59</td>\n",
       "      <td>Albania1987</td>\n",
       "      <td>NaN</td>\n",
       "      <td>2,156,624,900</td>\n",
       "      <td>796</td>\n",
       "      <td>G.I. Generation</td>\n",
       "      <td>Tirana</td>\n",
       "      <td>41.316667</td>\n",
       "      <td>19.816667</td>\n",
       "      <td>AL</td>\n",
       "      <td>Europe</td>\n",
       "    </tr>\n",
       "    <tr>\n",
       "      <th>4</th>\n",
       "      <td>Albania</td>\n",
       "      <td>1987</td>\n",
       "      <td>male</td>\n",
       "      <td>25-34 years</td>\n",
       "      <td>9</td>\n",
       "      <td>274300</td>\n",
       "      <td>3.28</td>\n",
       "      <td>Albania1987</td>\n",
       "      <td>NaN</td>\n",
       "      <td>2,156,624,900</td>\n",
       "      <td>796</td>\n",
       "      <td>Boomers</td>\n",
       "      <td>Tirana</td>\n",
       "      <td>41.316667</td>\n",
       "      <td>19.816667</td>\n",
       "      <td>AL</td>\n",
       "      <td>Europe</td>\n",
       "    </tr>\n",
       "  </tbody>\n",
       "</table>\n",
       "</div>"
      ],
      "text/plain": [
       "   country  year     sex          age  suicides_no  population  \\\n",
       "0  Albania  1987    male  15-24 years           21      312900   \n",
       "1  Albania  1987    male  35-54 years           16      308000   \n",
       "2  Albania  1987  female  15-24 years           14      289700   \n",
       "3  Albania  1987    male    75+ years            1       21800   \n",
       "4  Albania  1987    male  25-34 years            9      274300   \n",
       "\n",
       "   suicides/100k pop country-year  HDI for year  gdp_for_year ($)   \\\n",
       "0               6.71  Albania1987           NaN      2,156,624,900   \n",
       "1               5.19  Albania1987           NaN      2,156,624,900   \n",
       "2               4.83  Albania1987           NaN      2,156,624,900   \n",
       "3               4.59  Albania1987           NaN      2,156,624,900   \n",
       "4               3.28  Albania1987           NaN      2,156,624,900   \n",
       "\n",
       "   gdp_per_capita ($)       generation CapitalName  CapitalLatitude  \\\n",
       "0                 796     Generation X      Tirana        41.316667   \n",
       "1                 796           Silent      Tirana        41.316667   \n",
       "2                 796     Generation X      Tirana        41.316667   \n",
       "3                 796  G.I. Generation      Tirana        41.316667   \n",
       "4                 796          Boomers      Tirana        41.316667   \n",
       "\n",
       "   CapitalLongitude CountryCode ContinentName  \n",
       "0         19.816667          AL        Europe  \n",
       "1         19.816667          AL        Europe  \n",
       "2         19.816667          AL        Europe  \n",
       "3         19.816667          AL        Europe  \n",
       "4         19.816667          AL        Europe  "
      ]
     },
     "execution_count": 58,
     "metadata": {},
     "output_type": "execute_result"
    }
   ],
   "source": [
    "df.head()"
   ]
  },
  {
   "cell_type": "code",
   "execution_count": 59,
   "id": "0647e5a8",
   "metadata": {},
   "outputs": [
    {
     "name": "stdout",
     "output_type": "stream",
     "text": [
      "country\n",
      "year\n",
      "sex\n",
      "age\n",
      "suicides_no\n",
      "population\n",
      "suicides/100k pop\n",
      "HDI for year\n",
      "gdp_per_capita ($)\n",
      "generation\n",
      "CapitalLatitude\n",
      "CapitalLongitude\n",
      "ContinentName \n",
      "\n",
      "shape:\t (27820, 13)\n"
     ]
    }
   ],
   "source": [
    "# Drop Un-Needed Columns\n",
    "df = df.drop([' gdp_for_year ($) ', 'country-year', 'CountryCode', 'CapitalName'], axis=1)\n",
    "df = df.sort_values(['country','year'])\n",
    "print(\"\\n\".join(df.columns), \"\\n\\nshape:\\t\", df.shape)\n"
   ]
  },
  {
   "cell_type": "code",
   "execution_count": 60,
   "id": "280b96cd",
   "metadata": {},
   "outputs": [
    {
     "data": {
      "text/html": [
       "<div>\n",
       "<style scoped>\n",
       "    .dataframe tbody tr th:only-of-type {\n",
       "        vertical-align: middle;\n",
       "    }\n",
       "\n",
       "    .dataframe tbody tr th {\n",
       "        vertical-align: top;\n",
       "    }\n",
       "\n",
       "    .dataframe thead th {\n",
       "        text-align: right;\n",
       "    }\n",
       "</style>\n",
       "<table border=\"1\" class=\"dataframe\">\n",
       "  <thead>\n",
       "    <tr style=\"text-align: right;\">\n",
       "      <th></th>\n",
       "      <th>country</th>\n",
       "      <th>year</th>\n",
       "      <th>sex</th>\n",
       "      <th>age</th>\n",
       "      <th>suicides_no</th>\n",
       "      <th>population</th>\n",
       "      <th>suicides/100k pop</th>\n",
       "      <th>HDI for year</th>\n",
       "      <th>gdp_per_capita ($)</th>\n",
       "      <th>generation</th>\n",
       "      <th>CapitalLatitude</th>\n",
       "      <th>CapitalLongitude</th>\n",
       "      <th>ContinentName</th>\n",
       "    </tr>\n",
       "  </thead>\n",
       "  <tbody>\n",
       "    <tr>\n",
       "      <th>0</th>\n",
       "      <td>Albania</td>\n",
       "      <td>1987</td>\n",
       "      <td>male</td>\n",
       "      <td>15-24 years</td>\n",
       "      <td>21</td>\n",
       "      <td>312900</td>\n",
       "      <td>6.71</td>\n",
       "      <td>NaN</td>\n",
       "      <td>796</td>\n",
       "      <td>Generation X</td>\n",
       "      <td>41.316667</td>\n",
       "      <td>19.816667</td>\n",
       "      <td>Europe</td>\n",
       "    </tr>\n",
       "    <tr>\n",
       "      <th>1</th>\n",
       "      <td>Albania</td>\n",
       "      <td>1987</td>\n",
       "      <td>male</td>\n",
       "      <td>35-54 years</td>\n",
       "      <td>16</td>\n",
       "      <td>308000</td>\n",
       "      <td>5.19</td>\n",
       "      <td>NaN</td>\n",
       "      <td>796</td>\n",
       "      <td>Silent</td>\n",
       "      <td>41.316667</td>\n",
       "      <td>19.816667</td>\n",
       "      <td>Europe</td>\n",
       "    </tr>\n",
       "    <tr>\n",
       "      <th>2</th>\n",
       "      <td>Albania</td>\n",
       "      <td>1987</td>\n",
       "      <td>female</td>\n",
       "      <td>15-24 years</td>\n",
       "      <td>14</td>\n",
       "      <td>289700</td>\n",
       "      <td>4.83</td>\n",
       "      <td>NaN</td>\n",
       "      <td>796</td>\n",
       "      <td>Generation X</td>\n",
       "      <td>41.316667</td>\n",
       "      <td>19.816667</td>\n",
       "      <td>Europe</td>\n",
       "    </tr>\n",
       "    <tr>\n",
       "      <th>3</th>\n",
       "      <td>Albania</td>\n",
       "      <td>1987</td>\n",
       "      <td>male</td>\n",
       "      <td>75+ years</td>\n",
       "      <td>1</td>\n",
       "      <td>21800</td>\n",
       "      <td>4.59</td>\n",
       "      <td>NaN</td>\n",
       "      <td>796</td>\n",
       "      <td>G.I. Generation</td>\n",
       "      <td>41.316667</td>\n",
       "      <td>19.816667</td>\n",
       "      <td>Europe</td>\n",
       "    </tr>\n",
       "    <tr>\n",
       "      <th>4</th>\n",
       "      <td>Albania</td>\n",
       "      <td>1987</td>\n",
       "      <td>male</td>\n",
       "      <td>25-34 years</td>\n",
       "      <td>9</td>\n",
       "      <td>274300</td>\n",
       "      <td>3.28</td>\n",
       "      <td>NaN</td>\n",
       "      <td>796</td>\n",
       "      <td>Boomers</td>\n",
       "      <td>41.316667</td>\n",
       "      <td>19.816667</td>\n",
       "      <td>Europe</td>\n",
       "    </tr>\n",
       "  </tbody>\n",
       "</table>\n",
       "</div>"
      ],
      "text/plain": [
       "   country  year     sex          age  suicides_no  population  \\\n",
       "0  Albania  1987    male  15-24 years           21      312900   \n",
       "1  Albania  1987    male  35-54 years           16      308000   \n",
       "2  Albania  1987  female  15-24 years           14      289700   \n",
       "3  Albania  1987    male    75+ years            1       21800   \n",
       "4  Albania  1987    male  25-34 years            9      274300   \n",
       "\n",
       "   suicides/100k pop  HDI for year  gdp_per_capita ($)       generation  \\\n",
       "0               6.71           NaN                 796     Generation X   \n",
       "1               5.19           NaN                 796           Silent   \n",
       "2               4.83           NaN                 796     Generation X   \n",
       "3               4.59           NaN                 796  G.I. Generation   \n",
       "4               3.28           NaN                 796          Boomers   \n",
       "\n",
       "   CapitalLatitude  CapitalLongitude ContinentName  \n",
       "0        41.316667         19.816667        Europe  \n",
       "1        41.316667         19.816667        Europe  \n",
       "2        41.316667         19.816667        Europe  \n",
       "3        41.316667         19.816667        Europe  \n",
       "4        41.316667         19.816667        Europe  "
      ]
     },
     "execution_count": 60,
     "metadata": {},
     "output_type": "execute_result"
    }
   ],
   "source": [
    "df.head()"
   ]
  },
  {
   "cell_type": "code",
   "execution_count": 61,
   "id": "7e1c0d2e",
   "metadata": {},
   "outputs": [
    {
     "data": {
      "image/png": "[encoded data removed]",
      "text/plain": [
       "<Figure size 576x288 with 2 Axes>"
      ]
     },
     "metadata": {
      "needs_background": "light"
     },
     "output_type": "display_data"
    },
    {
     "name": "stdout",
     "output_type": "stream",
     "text": [
      "\n",
      "DUPLICATE VALUE COUNT:   0\n"
     ]
    }
   ],
   "source": [
    "plt.figure(figsize=(8,4)) #set width and height \n",
    "plt.title('null , missing and \\'0\\' values heatmap')\n",
    "sns.heatmap((df.isnull()) | (df == 0), cmap = 'mako')\n",
    "plt.show()\n",
    "print('\\nDUPLICATE VALUE COUNT:  ', df.duplicated().sum())\n",
    "\n",
    "#suicides_no, suicides/100k pop and HDI for year have missing values and will be corrected in the following sections. There are no duplicate values.\n",
    "\n",
    "\n"
   ]
  },
  {
   "cell_type": "code",
   "execution_count": 62,
   "id": "16ba0f06",
   "metadata": {},
   "outputs": [
    {
     "name": "stdout",
     "output_type": "stream",
     "text": [
      " before:          suicides_no == 0:   15.3882%\n",
      " before:    suicides/100k pop == 0:   15.3882%\n"
     ]
    }
   ],
   "source": [
    "#  percentage missing for 'suicides/100k pop' - before\n",
    "for i in ['suicides_no', 'suicides/100k pop']:\n",
    "    missing_before = len(df[df[i] == 0])*100/len(df)\n",
    "    print(' before: {:>20} == 0:  {:>8.4f}%'.format(i,missing_before))\n",
    "    \n",
    "sui_before = df[['suicides_no', 'suicides/100k pop']]\n"
   ]
  },
  {
   "cell_type": "code",
   "execution_count": 63,
   "id": "77b70cf7",
   "metadata": {},
   "outputs": [],
   "source": [
    "len(df[df['suicides/100k pop'] == 0].index)\n",
    "df.drop(df[df['suicides/100k pop'] == 0].index, inplace = True)\n"
   ]
  },
  {
   "cell_type": "code",
   "execution_count": 64,
   "id": "4482e567",
   "metadata": {},
   "outputs": [
    {
     "name": "stdout",
     "output_type": "stream",
     "text": [
      " after:           suicides_no == 0:      0.00%\n",
      " after:     suicides/100k pop == 0:      0.00%\n"
     ]
    }
   ],
   "source": [
    "#  percentage missing for 'suicides/100k pop' - after\n",
    "for i in ['suicides_no', 'suicides/100k pop']:\n",
    "    missing_after = len(df[df[i] == 0])*100/len(df)\n",
    "    print(' after:  {:>20} == 0:  {:>8.2f}%'.format(i,missing_after))\n",
    "\n",
    "#  AFTER - missing 'suicides_no' and 'suicides/100k pop'\n",
    "sui_after = df[['suicides_no', 'suicides/100k pop']]"
   ]
  },
  {
   "cell_type": "code",
   "execution_count": 70,
   "id": "b8aa38d4",
   "metadata": {},
   "outputs": [
    {
     "data": {
      "text/plain": [
       "<function matplotlib.pyplot.show(close=None, block=None)>"
      ]
     },
     "execution_count": 70,
     "metadata": {},
     "output_type": "execute_result"
    },
    {
     "data": {
      "image/png": "[encoded data removed]",
      "text/plain": [
       "<Figure size 864x288 with 4 Axes>"
      ]
     },
     "metadata": {
      "needs_background": "light"
     },
     "output_type": "display_data"
    }
   ],
   "source": [
    "plt.figure(figsize=(12,4))\n",
    "plt.subplot(121)\n",
    "sns.heatmap((sui_before.isnull()) | (sui_before == 0), cmap = 'binary_r')\n",
    "plt.title('BEFORE: \\'suicides_\\' missing')\n",
    "plt.subplot(122)\n",
    "sns.heatmap((sui_after.isnull()) | (sui_after == 0), cmap = 'binary_r')\n",
    "plt.title('AFTER: \\'suicides_\\' missing')\n",
    "plt.show\n",
    "\n"
   ]
  },
  {
   "cell_type": "code",
   "execution_count": 71,
   "id": "909a2932",
   "metadata": {},
   "outputs": [
    {
     "data": {
      "image/png": "[encoded data removed]",
      "text/plain": [
       "<Figure size 576x288 with 2 Axes>"
      ]
     },
     "metadata": {
      "needs_background": "light"
     },
     "output_type": "display_data"
    },
    {
     "name": "stdout",
     "output_type": "stream",
     "text": [
      "\n",
      "DUPLICATE VALUE COUNT:   0\n"
     ]
    }
   ],
   "source": [
    "plt.figure(figsize=(8,4)) #set width and height \n",
    "plt.title('null , missing and \\'0\\' values heatmap')\n",
    "sns.heatmap((df.isnull()) | (df == 0), cmap = 'mako')\n",
    "plt.show()\n",
    "print('\\nDUPLICATE VALUE COUNT:  ', df.duplicated().sum())\n"
   ]
  },
  {
   "cell_type": "code",
   "execution_count": 72,
   "id": "e0faf9c9",
   "metadata": {},
   "outputs": [
    {
     "name": "stdout",
     "output_type": "stream",
     "text": [
      "HDI for year == NaN:   69.3827%\t(before)\n"
     ]
    }
   ],
   "source": [
    "print('HDI for year == NaN:  {:>8.4f}%\\t(before)'.format( len(df[df['HDI for year'].isnull()])*100/len(df)))"
   ]
  },
  {
   "cell_type": "code",
   "execution_count": 74,
   "id": "791b6625",
   "metadata": {},
   "outputs": [
    {
     "data": {
      "text/plain": [
       "year\n",
       "1985    266.721\n",
       "1986      0.000\n",
       "1987      0.000\n",
       "1988      0.000\n",
       "1989      0.000\n",
       "1990    389.189\n",
       "1991      0.000\n",
       "1992      0.000\n",
       "1993      0.000\n",
       "1994      0.000\n",
       "1995    511.145\n",
       "1996      0.000\n",
       "1997      0.000\n",
       "1998      0.000\n",
       "1999      0.000\n",
       "2000    597.279\n",
       "2001      0.000\n",
       "2002      0.000\n",
       "2003      0.000\n",
       "2004      0.000\n",
       "2005    601.136\n",
       "2006      0.000\n",
       "2007      0.000\n",
       "2008      0.000\n",
       "2009      0.000\n",
       "2010    673.125\n",
       "2011    654.182\n",
       "2012    649.924\n",
       "2013    632.866\n",
       "2014    638.431\n",
       "2015      0.000\n",
       "2016      0.000\n",
       "Name: HDI for year, dtype: float64"
      ]
     },
     "execution_count": 74,
     "metadata": {},
     "output_type": "execute_result"
    }
   ],
   "source": [
    "hdi_before = df['HDI for year'].groupby(df['year']).sum()\n",
    "hdi_before "
   ]
  },
  {
   "cell_type": "code",
   "execution_count": 77,
   "id": "501f7bcb",
   "metadata": {},
   "outputs": [],
   "source": [
    "df['HDI for year'].fillna(method='ffill', inplace=True)\n"
   ]
  },
  {
   "cell_type": "code",
   "execution_count": 79,
   "id": "2a1ba68b",
   "metadata": {},
   "outputs": [
    {
     "data": {
      "text/plain": [
       "year\n",
       "1985    314.748\n",
       "1986    322.205\n",
       "1987    364.951\n",
       "1988    350.105\n",
       "1989    377.031\n",
       "1990    474.139\n",
       "1991    474.190\n",
       "1992    491.565\n",
       "1993    490.427\n",
       "1994    519.356\n",
       "1995    594.260\n",
       "1996    608.695\n",
       "1997    604.114\n",
       "1998    616.615\n",
       "1999    634.252\n",
       "2000    643.398\n",
       "2001    662.254\n",
       "2002    656.327\n",
       "2003    650.610\n",
       "2004    633.677\n",
       "2005    646.349\n",
       "2006    645.238\n",
       "2007    675.928\n",
       "2008    663.747\n",
       "2009    694.112\n",
       "2010    701.132\n",
       "2011    693.523\n",
       "2012    676.562\n",
       "2013    659.504\n",
       "2014    665.069\n",
       "2015    542.659\n",
       "2016    115.956\n",
       "Name: HDI for year, dtype: float64"
      ]
     },
     "execution_count": 79,
     "metadata": {},
     "output_type": "execute_result"
    }
   ],
   "source": [
    "hdi_before = df['HDI for year'].groupby(df['year']).sum()\n",
    "hdi_before "
   ]
  },
  {
   "cell_type": "code",
   "execution_count": 80,
   "id": "0a3d868d",
   "metadata": {},
   "outputs": [
    {
     "name": "stdout",
     "output_type": "stream",
     "text": [
      "HDI for year == NaN:    0.0000%\t(after)\n"
     ]
    }
   ],
   "source": [
    "df.drop(df[df['HDI for year'].isnull()].index, inplace = True)\n",
    "#  after forward fill\n",
    "hdi_after = df['HDI for year'].groupby(df['year']).sum()\n",
    "\n",
    "#  percentage missing for 'HDI for year'\n",
    "print('HDI for year == NaN:  {:>8.4f}%\\t(after)'.format( len(df[df['HDI for year'].isnull()])*100/len(df)))"
   ]
  },
  {
   "cell_type": "code",
   "execution_count": 81,
   "id": "3dc1bf4c",
   "metadata": {},
   "outputs": [
    {
     "data": {
      "text/plain": [
       "year\n",
       "1985    314.748\n",
       "1986    322.205\n",
       "1987    364.951\n",
       "1988    350.105\n",
       "1989    377.031\n",
       "1990    474.139\n",
       "1991    474.190\n",
       "1992    491.565\n",
       "1993    490.427\n",
       "1994    519.356\n",
       "1995    594.260\n",
       "1996    608.695\n",
       "1997    604.114\n",
       "1998    616.615\n",
       "1999    634.252\n",
       "2000    643.398\n",
       "2001    662.254\n",
       "2002    656.327\n",
       "2003    650.610\n",
       "2004    633.677\n",
       "2005    646.349\n",
       "2006    645.238\n",
       "2007    675.928\n",
       "2008    663.747\n",
       "2009    694.112\n",
       "2010    701.132\n",
       "2011    693.523\n",
       "2012    676.562\n",
       "2013    659.504\n",
       "2014    665.069\n",
       "2015    542.659\n",
       "2016    115.956\n",
       "Name: HDI for year, dtype: float64"
      ]
     },
     "execution_count": 81,
     "metadata": {},
     "output_type": "execute_result"
    }
   ],
   "source": [
    "hdi_after"
   ]
  },
  {
   "cell_type": "code",
   "execution_count": 84,
   "id": "7b31dc1e",
   "metadata": {},
   "outputs": [
    {
     "data": {
      "image/png": "[encoded data removed]",
      "text/plain": [
       "<Figure size 864x288 with 2 Axes>"
      ]
     },
     "metadata": {
      "needs_background": "light"
     },
     "output_type": "display_data"
    }
   ],
   "source": [
    "sr = df['year'].groupby(df['year']).value_counts()  # count rows per year\n",
    "yr = df['year'].sort_values().unique()\n",
    "\n",
    "plt.figure(figsize=(12,4))\n",
    "\n",
    "plt.subplot(121)\n",
    "plt.plot(yr,hdi_before)\n",
    "plt.plot(yr,hdi_after)\n",
    "plt.title('\\'HDI for year\\' BEFORE & AFTER fill', fontsize=14)\n",
    "plt.xlabel('Years', fontsize=12)\n",
    "plt.ylabel('HDI for year  (rows)', fontsize=12)\n",
    "plt.legend(['before','after'])\n",
    "plt.box(False)\n",
    "\n",
    "#  plot data profile\n",
    "plt.subplot(122)\n",
    "plt.plot(yr,sr)\n",
    "plt.title('Data Profile: Observations per 1985-2016\\n(mean = {:.0f})'.format(sr.mean()), fontsize=14)\n",
    "plt.xlabel('Years', fontsize=12)\n",
    "plt.ylabel('Observations', fontsize=12)\n",
    "plt.axhline(y = sr.mean(), color = 'gray', ls = '--')\n",
    "plt.axvline(x = 2015, color = 'red', ls = '--')\n",
    "plt.box(False)\n",
    "for a,b in zip(yr, sr): \n",
    "    if a % 4 == 0:\n",
    "        plt.text(a, b, str(b))\n",
    "plt.show()"
   ]
  },
  {
   "cell_type": "code",
   "execution_count": 85,
   "id": "3806f044",
   "metadata": {},
   "outputs": [
    {
     "name": "stdout",
     "output_type": "stream",
     "text": [
      "before 2016 data drop:   (23481, 13)\n",
      "after  2016 data drop:   (23341, 13)\n"
     ]
    }
   ],
   "source": [
    "print('before 2016 data drop:  ',df.shape)\n",
    "df.drop(df[df['year'] == 2016].index, inplace = True)\n",
    "print('after  2016 data drop:  ',df.shape)"
   ]
  },
  {
   "cell_type": "code",
   "execution_count": null,
   "id": "d68d7023",
   "metadata": {},
   "outputs": [],
   "source": []
  }
 ],
 "metadata": {
  "kernelspec": {
   "display_name": "Python 3 (ipykernel)",
   "language": "python",
   "name": "python3"
  },
  "language_info": {
   "codemirror_mode": {
    "name": "ipython",
    "version": 3
   },
   "file_extension": ".py",
   "mimetype": "text/x-python",
   "name": "python",
   "nbconvert_exporter": "python",
   "pygments_lexer": "ipython3",
   "version": "3.9.12"
  }
 },
 "nbformat": 4,
 "nbformat_minor": 5
}
